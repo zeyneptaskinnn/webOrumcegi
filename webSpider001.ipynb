{
  "nbformat": 4,
  "nbformat_minor": 0,
  "metadata": {
    "colab": {
      "provenance": [],
      "authorship_tag": "ABX9TyO0ExJj4weko8c9UL4OMS8a",
      "include_colab_link": true
    },
    "kernelspec": {
      "name": "python3",
      "display_name": "Python 3"
    },
    "language_info": {
      "name": "python"
    }
  },
  "cells": [
    {
      "cell_type": "markdown",
      "metadata": {
        "id": "view-in-github",
        "colab_type": "text"
      },
      "source": [
        "<a href=\"https://colab.research.google.com/github/zeyneptaskinnn/webOrumcegi/blob/main/webSpider001.ipynb\" target=\"_parent\"><img src=\"https://colab.research.google.com/assets/colab-badge.svg\" alt=\"Open In Colab\"/></a>"
      ]
    },
    {
      "cell_type": "code",
      "execution_count": 2,
      "metadata": {
        "id": "sQalp5GSI6XT"
      },
      "outputs": [],
      "source": [
        "# Uygulamada kullanılacak kütüphaneler\n",
        "import ipywidgets as arayuz\n",
        "import requests as getir\n",
        "from bs4 import BeautifulSoup as analiz"
      ]
    },
    {
      "cell_type": "code",
      "source": [
        "# @title\n",
        "# Veri toplama araçları\n",
        "\n",
        "# Uygulama başlık\n",
        "baslik = arayuz.HTML(value=\"<h1>::: Web Örümceği :::</h1>\")\n",
        "display(baslik)\n",
        "\n",
        "# Uygulama ara başlık\n",
        "araBaslik = arayuz.HTML(value=\"<h2>Tarama verisi oluştur:</h2>\")\n",
        "display(araBaslik)\n",
        "\n",
        "# Sonuçlar ara başlık\n",
        "araSonuc = arayuz.HTML(value=\"<h2>Tarama sonuçları:</h2>\")\n",
        "\n",
        "#Uygulama açıklama\n",
        "aciklama = arayuz.HTML(value=\"<p>Web taraması için başlangıç adresi olarak belirlemek istediğiniz URL'yi giriniz. URL https ya da http ön eki ile başlamalıdır. Tarama seviyesini istediğiniz bir değere ayarlayınız ve taramayı başlat düğmesine tıklayınız:</p>\")\n",
        "display(aciklama)\n",
        "\n",
        "# Tarama başlangıç adresi\n",
        "url = arayuz.Text(value=\"https://\", description=\"\")\n",
        "display(url)\n",
        "\n",
        "# Tarama için seviye belirleyici\n",
        "level = arayuz.IntSlider(min=1, max=5, step=1, value=2)\n",
        "display(level)\n",
        "\n",
        "# Tarama işlemine başlanılması için buton\n",
        "buton = arayuz.Button(description=\"Taramayı başlat!\")\n",
        "display(buton)\n",
        "\n",
        "# Arayüzde kullanılan ayiricilar\n",
        "ayirici = arayuz.HTML(value=\"<hr>\")\n",
        "display(ayirici)\n",
        "\n",
        "def taramaBasla(b):\n",
        "\n",
        "    #Tarama verisi topla ve göster\n",
        "    adres = url.value\n",
        "    print(\"Başlangıç adresi: \" + adres)\n",
        "    seviye = level.value\n",
        "    print(\"Tarama seviyesi: \" + str(seviye))\n",
        "    display(ayirici)\n",
        "\n",
        "    #Tarama verisini getir\n",
        "    response = getir.get(adres)\n",
        "    html = response.content\n",
        "    print(html)\n",
        "    display(ayirici)\n",
        "\n",
        "    # BeautifulSoup nesnesi oluştur\n",
        "    soup = analiz(html, \"html.parser\")\n",
        "\n",
        "    # Başlığı bul ve yazdır\n",
        "    sayfaBaslik = soup.find(\"title\").text\n",
        "    display(araSonuc)\n",
        "    print(adres, \" - \", sayfaBaslik)\n",
        "    display(ayirici)\n",
        "\n",
        "    # Sayfadaki tüm bağlantıları bul\n",
        "    linkler = soup.find_all(\"a\")\n",
        "    for link in linkler:\n",
        "      print(\"Bağlantı:\", link.get(\"href\"))\n",
        "\n",
        "\n",
        "buton.on_click(taramaBasla)"
      ],
      "metadata": {
        "id": "XBacCBRmc6AA"
      },
      "execution_count": null,
      "outputs": []
    }
  ]
}